{
 "cells": [
  {
   "cell_type": "markdown",
   "metadata": {},
   "source": [
    "## Creer une dictionnaire latin-francais"
   ]
  },
  {
   "cell_type": "code",
   "execution_count": 2,
   "metadata": {},
   "outputs": [
    {
     "name": "stdout",
     "output_type": "stream",
     "text": [
      "b'<!DOCTYPE HTML PUBLIC \"-//W3C//DTD HTML 4.0 Transitional//EN\">\\n<html dir=\"ltr\" lang=\"fr\">\\n<head>\\n\\n</'\n"
     ]
    }
   ],
   "source": [
    "from urllib.request import urlopen\n",
    "\n",
    "url = \"http://www.prima-elementa.fr/\"\n",
    "\n",
    "f = urlopen(url + \"Dico.htm\")\n",
    "myfile = f.read()\n",
    "print(myfile[:100])"
   ]
  },
  {
   "cell_type": "code",
   "execution_count": 3,
   "metadata": {},
   "outputs": [
    {
     "name": "stdout",
     "output_type": "stream",
     "text": [
      "['Dico-a01.html', 'Dico-a02.html', 'Dico-a03.html', 'Dico-a04.html', 'Dico-a05.html']\n"
     ]
    }
   ],
   "source": [
    "import bs4\n",
    "import re \n",
    "\n",
    "soup = bs4.BeautifulSoup(myfile, 'html.parser')\n",
    "\n",
    "links = [link.get('href') for link in \n",
    "         soup.find_all('a', href=lambda href: href and re.compile('Dico').search(href))]\n",
    "\n",
    "print(links[:5],)"
   ]
  },
  {
   "cell_type": "code",
   "execution_count": 8,
   "metadata": {},
   "outputs": [],
   "source": [
    "f = urlopen(url + links[0])\n",
    "dict_page = f.read()\n",
    "\n",
    "soup = bs4.BeautifulSoup(dict_page, 'html.parser')\n",
    "entries = soup.find_all('li')\n"
   ]
  },
  {
   "cell_type": "code",
   "execution_count": 15,
   "metadata": {},
   "outputs": [
    {
     "data": {
      "text/plain": [
       "\"ăbăcus,\\ni, m. : \\n          \\n- gr.\\nἄβαξ. \\n          \\n- voir\\nhors site : abacus.\\n    \\n        1\\n- buffet, bahut,\\ncrédence (pour\\nexposer la vaisselle de luxe).\\n\\n\\n \\n         - Varr. L. 9,\\n46 ; Cic. Verr. 4, 35 ; 4, 57 ; Tusc. 5,\\n61 ; Liv. 39, 6.\\n\\n     \\n  2\\n- table de calcul, tableau.\\n\\n\\n \\n         - Pers. 1,\\n131 ; Apul. Apol. 16. \\n\\n\\n        3\\n- table de\\njeu, damier.\\n          \\n- eburneis\\nquadrigis cotidie in abaco ludere, Suet. : jouer tous les jours sur une\\ntable avec des quadriges d'ivoire. \\n\\n\\n \\n         - Macr.\\nSat. 1, 5, 11. \\n\\n     \\n  4 - tablette\\n(en\\nmarbre ou en verre, destinée à recouvrir les\\nparois d'un appartement).\\n\\n\\n \\n         - Vitr. 7, 3,\\n10 ; 7, 4, 4 ; Plin. 33, 159. \\n     \\n  5 - abaque,\\ntailloir\\n(partie\\nsupérieure d'un chapiteau). \\n\\n\\n         \\n - Vitr. 4, 1, 11.  \\n \\n       \\n - voir\\nhors site dicolat-angl    dicolat-allem\""
      ]
     },
     "execution_count": 15,
     "metadata": {},
     "output_type": "execute_result"
    }
   ],
   "source": [
    "import unicodedata\n",
    "\n",
    "text = entries[10].get_text().strip()\n",
    "\n",
    "unicodedata.normalize(\"NFKD\", text)"
   ]
  },
  {
   "cell_type": "code",
   "execution_count": null,
   "metadata": {},
   "outputs": [],
   "source": []
  }
 ],
 "metadata": {
  "kernelspec": {
   "display_name": "Python 3",
   "language": "python",
   "name": "python3"
  },
  "language_info": {
   "codemirror_mode": {
    "name": "ipython",
    "version": 3
   },
   "file_extension": ".py",
   "mimetype": "text/x-python",
   "name": "python",
   "nbconvert_exporter": "python",
   "pygments_lexer": "ipython3",
   "version": "3.6.4"
  }
 },
 "nbformat": 4,
 "nbformat_minor": 2
}
