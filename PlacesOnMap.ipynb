{
 "cells": [
  {
   "cell_type": "code",
   "execution_count": 58,
   "metadata": {},
   "outputs": [
    {
     "name": "stdout",
     "output_type": "stream",
     "text": [
      "['chronicon', 'beneuentanum', 'falcone', 'beneuento', 'chronicon', 'beneuentanum', '1102.1.1', 'apud', 'urbem']\n"
     ]
    }
   ],
   "source": [
    "file = open(\"/Users/danjane/cltk_data/latin/text/latin_text_latin_library/falcone.txt\", \"r\") \n",
    "text = file.read()\n",
    "\n",
    "# Replace j/v and tokenize\n",
    "from cltk.stem.latin.j_v import JVReplacer\n",
    "from cltk.tokenize.word import WordTokenizer\n",
    "\n",
    "jv_replacer = JVReplacer()\n",
    "text = jv_replacer.replace(text.lower())\n",
    "\n",
    "word_tokenizer = WordTokenizer('latin')\n",
    "text_word_tokens = word_tokenizer.tokenize(text)\n",
    "text_word_tokens = [token for token in text_word_tokens if token not in ['.', ',', ':', ';','*']]\n",
    "\n",
    "# Keep words more than 3 characters long\n",
    "text_word_tokens = [token for token in text_word_tokens if len(token) > 3]\n",
    "\n",
    "# Quick check, printing the first 10 words\n",
    "print(text_word_tokens[:9])"
   ]
  },
  {
   "cell_type": "code",
   "execution_count": 59,
   "metadata": {},
   "outputs": [
    {
     "name": "stdout",
     "output_type": "stream",
     "text": [
      "canonical latin name (source(s): variant(s)), english name (native language(s)) - older name(s)\n",
      "canonical latin name (source(s): variant(s)), (other language(s))\n",
      "canonical latin name (source(s): variant(s)), location(s)\n",
      "brigantium, bregenz\n",
      "brigantia, bregenz\n",
      "carnuntum, bad deutsch-altenburg / petronell\n",
      "chremisa, krems\n",
      "idunum, judenburg\n",
      "iuenna, jaunstein - (podjuna)\n",
      "iuenna, völkermarkt\n"
     ]
    }
   ],
   "source": [
    "import re\n",
    "\n",
    "file = open(\"LatinGeographicalNames.txt\")\n",
    "places = file.read().lower()\n",
    "lines = places.split('\\n')\n",
    "latinname_modernname = [line.split('\\t') for line in lines]\n",
    "\n",
    "latin_names = []\n",
    "modern_names = []\n",
    "for pair in latinname_modernname:\n",
    "    if len(pair) > 1:\n",
    "        latins = pair[0].split(',')\n",
    "        moderns = pair[1].split(',')\n",
    "        for latin in latins:\n",
    "            for modern in moderns:\n",
    "                latin_names.append(latin.lstrip())\n",
    "                modern_names.append(modern.lstrip())\n",
    "\n",
    "\n",
    "#places = re.findall(r\"[\\w']+\", places)\n",
    "for i in range(10):\n",
    "        print(latin_names[i] + ', ' + modern_names[i])"
   ]
  },
  {
   "cell_type": "code",
   "execution_count": 60,
   "metadata": {},
   "outputs": [
    {
     "name": "stdout",
     "output_type": "stream",
     "text": [
      "['luna', 'solium', 'regalis', 'curia']\n"
     ]
    }
   ],
   "source": [
    "places_in_text = list(set(text_word_tokens) & set(latin_names))\n",
    "print(places_in_text[:5])"
   ]
  },
  {
   "cell_type": "code",
   "execution_count": 69,
   "metadata": {},
   "outputs": [
    {
     "ename": "SyntaxError",
     "evalue": "invalid syntax (<ipython-input-69-b572a1f96c71>, line 6)",
     "output_type": "error",
     "traceback": [
      "\u001b[0;36m  File \u001b[0;32m\"<ipython-input-69-b572a1f96c71>\"\u001b[0;36m, line \u001b[0;32m6\u001b[0m\n\u001b[0;31m    files = [file in files if (file.endswith('.txt')) ]\u001b[0m\n\u001b[0m                                                      ^\u001b[0m\n\u001b[0;31mSyntaxError\u001b[0m\u001b[0;31m:\u001b[0m invalid syntax\n"
     ]
    }
   ],
   "source": [
    "import os\n",
    "\n",
    "#files = [file in os.listdir(\n",
    "#    \"/Users/danjane/cltk_data/latin/text/latin_text_latin_library/\")]\n",
    "files = os.listdir(\"/Users/danjane/cltk_data/latin/text/latin_text_latin_library/\")\n",
    "files = [file in files if (file.endswith('.txt')) ]\n",
    "print(files)"
   ]
  },
  {
   "cell_type": "code",
   "execution_count": null,
   "metadata": {},
   "outputs": [],
   "source": []
  }
 ],
 "metadata": {
  "kernelspec": {
   "display_name": "Python 3",
   "language": "python",
   "name": "python3"
  },
  "language_info": {
   "codemirror_mode": {
    "name": "ipython",
    "version": 3
   },
   "file_extension": ".py",
   "mimetype": "text/x-python",
   "name": "python",
   "nbconvert_exporter": "python",
   "pygments_lexer": "ipython3",
   "version": "3.6.4"
  }
 },
 "nbformat": 4,
 "nbformat_minor": 2
}
