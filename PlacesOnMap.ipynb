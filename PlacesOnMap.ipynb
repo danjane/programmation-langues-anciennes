{
 "cells": [
  {
   "cell_type": "markdown",
   "metadata": {},
   "source": [
    "## Tokenize la texte\n",
    "Une texte pour l'ordinateur est un 'string', une liste de characters. On aura besoin d'une liste de mots et on appelle ce processus 'tokenisation'"
   ]
  },
  {
   "cell_type": "code",
   "execution_count": 1,
   "metadata": {},
   "outputs": [
    {
     "name": "stdout",
     "output_type": "stream",
     "text": [
      "['chronicon', 'beneuentanum', 'falcone', 'beneuento', 'chronicon', 'beneuentanum', '1102.1.1', 'apud', 'urbem']\n"
     ]
    }
   ],
   "source": [
    "file = open(\"/Users/danjane/cltk_data/latin/text/latin_text_latin_library/falcone.txt\", \"r\") \n",
    "text = file.read()\n",
    "\n",
    "# Replace j/v and tokenize\n",
    "from cltk.stem.latin.j_v import JVReplacer\n",
    "from cltk.tokenize.word import WordTokenizer\n",
    "\n",
    "jv_replacer = JVReplacer()\n",
    "text = jv_replacer.replace(text.lower())\n",
    "\n",
    "word_tokenizer = WordTokenizer('latin')\n",
    "text_word_tokens = word_tokenizer.tokenize(text)\n",
    "text_word_tokens = [token for token in text_word_tokens if token not in ['.', ',', ':', ';','*']]\n",
    "\n",
    "# Keep words more than 3 characters long\n",
    "text_word_tokens = [token for token in text_word_tokens if len(token) > 3]\n",
    "\n",
    "# Quick check, printing the first 10 words\n",
    "print(text_word_tokens[:9])"
   ]
  },
  {
   "cell_type": "markdown",
   "metadata": {},
   "source": [
    "## Créer une dictionnaire pour les noms des lieux\n",
    "On a besoin d'une grande liste des noms latins des lieux, et aussi un moyen de les traduires dans leurs noms moderns."
   ]
  },
  {
   "cell_type": "code",
   "execution_count": 2,
   "metadata": {},
   "outputs": [
    {
     "name": "stdout",
     "output_type": "stream",
     "text": [
      "canonical latin name (source(s): variant(s)), english name (native language(s)) - older name(s)\n",
      "canonical latin name (source(s): variant(s)), (other language(s))\n",
      "canonical latin name (source(s): variant(s)), location(s)\n",
      "brigantium, bregenz\n",
      "brigantia, bregenz\n",
      "carnuntum, bad deutsch-altenburg / petronell\n",
      "chremisa, krems\n",
      "idunum, judenburg\n",
      "iuenna, jaunstein - (podjuna)\n",
      "iuenna, völkermarkt\n"
     ]
    }
   ],
   "source": [
    "file = open(\"LatinGeographicalNames.txt\")\n",
    "places = file.read().lower()\n",
    "lines = places.split('\\n')\n",
    "latinname_modernname = [line.split('\\t') for line in lines]\n",
    "\n",
    "latin_names = []\n",
    "modern_names = []\n",
    "for pair in latinname_modernname:\n",
    "    if len(pair) > 1:\n",
    "        latins = pair[0].split(',')\n",
    "        moderns = pair[1].split(',')\n",
    "        for latin in latins:\n",
    "            for modern in moderns:\n",
    "                latin_names.append(latin.lstrip())\n",
    "                modern_names.append(modern.lstrip())\n",
    "\n",
    "for i in range(10):\n",
    "        print(latin_names[i] + ', ' + modern_names[i])"
   ]
  },
  {
   "cell_type": "code",
   "execution_count": 3,
   "metadata": {},
   "outputs": [
    {
     "name": "stdout",
     "output_type": "stream",
     "text": [
      "['luna', 'curia', 'regalis', 'solium']\n"
     ]
    }
   ],
   "source": [
    "places_in_text = list(set(text_word_tokens) & set(latin_names))\n",
    "print(places_in_text[:5])"
   ]
  },
  {
   "cell_type": "markdown",
   "metadata": {},
   "source": [
    "Je voudrais trouver des textes avec les plus de lieux possible, car il serait plus jolie sur un plan"
   ]
  },
  {
   "cell_type": "code",
   "execution_count": 15,
   "metadata": {},
   "outputs": [],
   "source": [
    "import os\n",
    "\n",
    "#files = [file in os.listdir(\n",
    "#    \"/Users/danjane/cltk_data/latin/text/latin_text_latin_library/\")]\n",
    "dir_texts = \"/Users/danjane/cltk_data/latin/text/latin_text_latin_library/\"\n",
    "files = os.listdir(dir_texts)\n",
    "files = [file for file in files if (file.endswith('.txt')) ]\n"
   ]
  },
  {
   "cell_type": "code",
   "execution_count": 11,
   "metadata": {},
   "outputs": [],
   "source": [
    "def tokenize(text):\n",
    "    jv_replacer = JVReplacer()\n",
    "    text = jv_replacer.replace(text.lower())\n",
    "\n",
    "    word_tokenizer = WordTokenizer('latin')\n",
    "    text_word_tokens = word_tokenizer.tokenize(text)\n",
    "    text_word_tokens = [token for token in text_word_tokens if token not in ['.', ',', ':', ';','*']]\n",
    "\n",
    "    # Keep words more than 3 characters long\n",
    "    text_word_tokens = [token for token in text_word_tokens if len(token) > 3]\n",
    "    return text_word_tokens"
   ]
  },
  {
   "cell_type": "code",
   "execution_count": 19,
   "metadata": {},
   "outputs": [],
   "source": [
    "num_of_places = {}\n",
    "for file in files:\n",
    "    file = open(os.path.join(dir_texts, file), \"r\") \n",
    "    text = file.read()\n",
    "    tokens = tokenize(text)\n",
    "    num_of_places[file] = len(set(tokens) & set(latin_names))\n",
    "    "
   ]
  },
  {
   "cell_type": "code",
   "execution_count": 26,
   "metadata": {},
   "outputs": [
    {
     "name": "stdout",
     "output_type": "stream",
     "text": [
      "<_io.TextIOWrapper name='/Users/danjane/cltk_data/latin/text/latin_text_latin_library/pliny.nh3.txt' mode='r' encoding='UTF-8'>\n",
      "<_io.TextIOWrapper name='/Users/danjane/cltk_data/latin/text/latin_text_latin_library/pomponius2.txt' mode='r' encoding='UTF-8'>\n"
     ]
    }
   ],
   "source": [
    "import numpy as np\n",
    "biggest = np.max(list(num_of_places.values()))\n",
    "for (key, value) in num_of_places.items():\n",
    "    if value==biggest:\n",
    "        print(key)"
   ]
  },
  {
   "cell_type": "code",
   "execution_count": 28,
   "metadata": {},
   "outputs": [
    {
     "name": "stdout",
     "output_type": "stream",
     "text": [
      "{'colonia', 'nemausus', 'luna', 'quadrata', 'altinum', 'massilia', 'theodosia', 'nicaea', 'columna', 'arelate', 'tolosa', 'bononia'}\n"
     ]
    }
   ],
   "source": [
    "# file = '/Users/danjane/cltk_data/latin/text/latin_text_latin_library/pliny.nh3.txt'\n",
    "file = '/Users/danjane/cltk_data/latin/text/latin_text_latin_library/pomponius2.txt'\n",
    "\n",
    "file = open(file, \"r\")\n",
    "text = file.read()\n",
    "tokens = tokenize(text)\n",
    "\n",
    "places = set(tokens) & set(latin_names)\n",
    "print(places)"
   ]
  },
  {
   "cell_type": "code",
   "execution_count": null,
   "metadata": {},
   "outputs": [],
   "source": []
  }
 ],
 "metadata": {
  "kernelspec": {
   "display_name": "Python 3",
   "language": "python",
   "name": "python3"
  },
  "language_info": {
   "codemirror_mode": {
    "name": "ipython",
    "version": 3
   },
   "file_extension": ".py",
   "mimetype": "text/x-python",
   "name": "python",
   "nbconvert_exporter": "python",
   "pygments_lexer": "ipython3",
   "version": "3.6.4"
  }
 },
 "nbformat": 4,
 "nbformat_minor": 2
}
